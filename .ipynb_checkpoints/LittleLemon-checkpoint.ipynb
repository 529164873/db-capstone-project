{
 "cells": [
  {
   "cell_type": "code",
   "execution_count": 1,
   "id": "15b28961-8ede-4f6f-a847-1e576ddeea31",
   "metadata": {},
   "outputs": [],
   "source": [
    "import mysql.connector as connector"
   ]
  },
  {
   "cell_type": "code",
   "execution_count": 2,
   "id": "4ec209ff-6198-4bf9-aaec-777811d86e89",
   "metadata": {},
   "outputs": [],
   "source": [
    "dbconfig = {\n",
    "    \"user\" : \"CML\",\n",
    "    \"password\" : \"1234\",\n",
    "    \"host\" : \"localhost\",\n",
    "    \"database\" : \"littlelemondb\"\n",
    "}"
   ]
  },
  {
   "cell_type": "code",
   "execution_count": 3,
   "id": "aa55ef22-0488-4e1d-8b71-1d2afa5e0f1a",
   "metadata": {},
   "outputs": [],
   "source": [
    "connection = connector.connect(**dbconfig)"
   ]
  },
  {
   "cell_type": "code",
   "execution_count": 4,
   "id": "7534d526-a582-4218-ba62-29c302b854e5",
   "metadata": {},
   "outputs": [],
   "source": [
    "show_tables_query = \"SHOW tables\""
   ]
  },
  {
   "cell_type": "code",
   "execution_count": 5,
   "id": "4c7c1abf-5a3a-49da-8e3c-d63bf3dc4de1",
   "metadata": {},
   "outputs": [],
   "source": [
    "cursor = connection.cursor(buffered=True)"
   ]
  },
  {
   "cell_type": "code",
   "execution_count": 6,
   "id": "cf8f1dcb-b6ca-4748-9747-fe63db0a8e66",
   "metadata": {},
   "outputs": [],
   "source": [
    "cursor.execute(show_tables_query)\n",
    "results = cursor.fetchall()"
   ]
  },
  {
   "cell_type": "code",
   "execution_count": 7,
   "id": "3f30f883-8094-49bf-a16a-c153a14ccfa9",
   "metadata": {},
   "outputs": [
    {
     "name": "stdout",
     "output_type": "stream",
     "text": [
      "[('bookings',), ('customers',), ('menuitems',), ('menus',), ('order delivery status',), ('orders',), ('ordersview',), ('staff information',)]\n"
     ]
    }
   ],
   "source": [
    "print(results)"
   ]
  },
  {
   "cell_type": "code",
   "execution_count": 8,
   "id": "5925d66a-59b5-4d82-9b2a-988c7d53ee10",
   "metadata": {},
   "outputs": [],
   "source": [
    "describe_query = \"DESCRIBE customers\"\n",
    "cursor.execute(describe_query)\n",
    "results = cursor.fetchall()"
   ]
  },
  {
   "cell_type": "code",
   "execution_count": 9,
   "id": "27da2fe2-8417-4f8b-8803-06a16a396de0",
   "metadata": {},
   "outputs": [
    {
     "name": "stdout",
     "output_type": "stream",
     "text": [
      "[('CustomerID', 'int', 'NO', 'PRI', None, ''), ('FirstName', 'varchar(45)', 'YES', '', None, ''), ('LastName', 'varchar(45)', 'YES', '', None, ''), ('Phone', 'int', 'YES', '', None, ''), ('Email', 'varchar(45)', 'YES', '', None, '')]\n"
     ]
    }
   ],
   "source": [
    "print(results)"
   ]
  },
  {
   "cell_type": "code",
   "execution_count": 10,
   "id": "b0260309-2f60-4dc1-b0e1-c8b9723f866a",
   "metadata": {},
   "outputs": [],
   "source": [
    "describe_query = \"DESCRIBE orders\"\n",
    "cursor.execute(describe_query)\n",
    "results = cursor.fetchall()"
   ]
  },
  {
   "cell_type": "code",
   "execution_count": 11,
   "id": "c3f4fba6-bb2e-41ea-8020-39c0411cf240",
   "metadata": {},
   "outputs": [
    {
     "name": "stdout",
     "output_type": "stream",
     "text": [
      "[('OrderID', 'int', 'NO', 'PRI', None, ''), ('OrderDate', 'datetime', 'YES', '', None, ''), ('CustomerID', 'int', 'YES', 'MUL', None, ''), ('BookingID', 'int', 'YES', 'MUL', None, ''), ('StatusID', 'int', 'YES', 'MUL', None, ''), ('MenuID', 'int', 'YES', 'MUL', None, ''), ('Quantity', 'int', 'YES', '', None, ''), ('StaffID', 'int', 'YES', 'MUL', None, ''), ('TableNo', 'int', 'YES', '', None, ''), ('TotalCost', 'decimal(10,0)', 'YES', '', None, '')]\n"
     ]
    }
   ],
   "source": [
    "print(results)"
   ]
  },
  {
   "cell_type": "code",
   "execution_count": 12,
   "id": "e356a5a4-db27-4ea0-a017-6cd5a0036562",
   "metadata": {},
   "outputs": [],
   "source": [
    "promo_join_query = \"\"\"SELECT\n",
    "    c.FirstName,\n",
    "    c.LastName,\n",
    "    c.Phone,\n",
    "    c.Email,\n",
    "    o.TotalCost\n",
    "FROM\n",
    "    orders o\n",
    "INNER JOIN\n",
    "    customers c\n",
    "ON\n",
    "    o.CustomerID = c.CustomerID\n",
    "WHERE\n",
    "    o.TotalCost >= 60;\n",
    "\"\"\""
   ]
  },
  {
   "cell_type": "code",
   "execution_count": 13,
   "id": "893e536d-17e1-45b4-a3b1-65a95063f0d0",
   "metadata": {},
   "outputs": [
    {
     "name": "stdout",
     "output_type": "stream",
     "text": [
      "('FirstName', 'LastName', 'Phone', 'Email', 'TotalCost')\n",
      "('Jane', 'Smith', 901100112, 'jane.smith@example.com', Decimal('60'))\n",
      "('Alice', 'Johnson', 901100113, 'alice.johnson@example.com', Decimal('100'))\n",
      "('Bob', 'Brown', 901100114, 'bob.brown@example.com', Decimal('80'))\n"
     ]
    }
   ],
   "source": [
    "cursor.execute(promo_join_query)\n",
    "results = cursor.fetchall()\n",
    "cols = cursor.column_names\n",
    "print(cols)\n",
    "for customer in results:\n",
    "    print(customer)"
   ]
  },
  {
   "cell_type": "code",
   "execution_count": null,
   "id": "f55eb80b-4bec-4da5-b34c-e2e361630e01",
   "metadata": {},
   "outputs": [],
   "source": []
  }
 ],
 "metadata": {
  "kernelspec": {
   "display_name": "Python 3 (ipykernel)",
   "language": "python",
   "name": "python3"
  },
  "language_info": {
   "codemirror_mode": {
    "name": "ipython",
    "version": 3
   },
   "file_extension": ".py",
   "mimetype": "text/x-python",
   "name": "python",
   "nbconvert_exporter": "python",
   "pygments_lexer": "ipython3",
   "version": "3.12.2"
  }
 },
 "nbformat": 4,
 "nbformat_minor": 5
}
